{
 "cells": [
  {
   "cell_type": "markdown",
   "id": "6625b4cf",
   "metadata": {},
   "source": [
    "## Canada Refugee Statistics Exploratory Data Analysis\n"
   ]
  },
  {
   "cell_type": "code",
   "execution_count": 1,
   "id": "1658dd73",
   "metadata": {},
   "outputs": [],
   "source": [
    "## Importing the Libraries\n",
    "\n",
    "import numpy as np\n",
    "import pandas as pd\n",
    "import matplotlib.pyplot as plt\n",
    "import seaborn as sns"
   ]
  },
  {
   "cell_type": "code",
   "execution_count": 2,
   "id": "3940fb87",
   "metadata": {},
   "outputs": [],
   "source": [
    "## Importing the Dataset\n",
    "\n",
    "df = pd.read_csv('can-stats-2012-22.csv')"
   ]
  },
  {
   "cell_type": "code",
   "execution_count": null,
   "id": "cb99bcef",
   "metadata": {},
   "outputs": [],
   "source": [
    "# This function will be used to add value label to the Column chart\n",
    "\n",
    "def addlabels(x,y):\n",
    "    for i in range(len(x)):\n",
    "        plt.text(i,y[i],y[i], ha='center')"
   ]
  },
  {
   "cell_type": "markdown",
   "id": "89e1aeda",
   "metadata": {},
   "source": [
    "### Observing the Data"
   ]
  },
  {
   "cell_type": "code",
   "execution_count": 5,
   "id": "b4f05125",
   "metadata": {},
   "outputs": [
    {
     "data": {
      "text/plain": [
       "(1870, 5)"
      ]
     },
     "execution_count": 5,
     "metadata": {},
     "output_type": "execute_result"
    }
   ],
   "source": [
    "# Cheking the shape of my dataset to know how many columns and rows there are.\n",
    "\n",
    "df.shape"
   ]
  },
  {
   "cell_type": "code",
   "execution_count": 6,
   "id": "51292bd0",
   "metadata": {},
   "outputs": [
    {
     "data": {
      "text/html": [
       "<div>\n",
       "<style scoped>\n",
       "    .dataframe tbody tr th:only-of-type {\n",
       "        vertical-align: middle;\n",
       "    }\n",
       "\n",
       "    .dataframe tbody tr th {\n",
       "        vertical-align: top;\n",
       "    }\n",
       "\n",
       "    .dataframe thead th {\n",
       "        text-align: right;\n",
       "    }\n",
       "</style>\n",
       "<table border=\"1\" class=\"dataframe\">\n",
       "  <thead>\n",
       "    <tr style=\"text-align: right;\">\n",
       "      <th></th>\n",
       "      <th>Year</th>\n",
       "      <th>Country-of-origin</th>\n",
       "      <th>UNHCR-refugees</th>\n",
       "      <th>Asylum-seekers</th>\n",
       "      <th>total-count</th>\n",
       "    </tr>\n",
       "  </thead>\n",
       "  <tbody>\n",
       "    <tr>\n",
       "      <th>0</th>\n",
       "      <td>2012</td>\n",
       "      <td>Afghanistan</td>\n",
       "      <td>2609</td>\n",
       "      <td>411</td>\n",
       "      <td>3020</td>\n",
       "    </tr>\n",
       "    <tr>\n",
       "      <th>1</th>\n",
       "      <td>2012</td>\n",
       "      <td>Albania</td>\n",
       "      <td>1764</td>\n",
       "      <td>579</td>\n",
       "      <td>2343</td>\n",
       "    </tr>\n",
       "    <tr>\n",
       "      <th>2</th>\n",
       "      <td>2012</td>\n",
       "      <td>Algeria</td>\n",
       "      <td>513</td>\n",
       "      <td>284</td>\n",
       "      <td>797</td>\n",
       "    </tr>\n",
       "    <tr>\n",
       "      <th>3</th>\n",
       "      <td>2012</td>\n",
       "      <td>Angola</td>\n",
       "      <td>753</td>\n",
       "      <td>21</td>\n",
       "      <td>774</td>\n",
       "    </tr>\n",
       "    <tr>\n",
       "      <th>4</th>\n",
       "      <td>2012</td>\n",
       "      <td>Antigua and Barbuda</td>\n",
       "      <td>40</td>\n",
       "      <td>30</td>\n",
       "      <td>70</td>\n",
       "    </tr>\n",
       "  </tbody>\n",
       "</table>\n",
       "</div>"
      ],
      "text/plain": [
       "   Year    Country-of-origin  UNHCR-refugees  Asylum-seekers  total-count\n",
       "0  2012          Afghanistan            2609             411         3020\n",
       "1  2012              Albania            1764             579         2343\n",
       "2  2012              Algeria             513             284          797\n",
       "3  2012               Angola             753              21          774\n",
       "4  2012  Antigua and Barbuda              40              30           70"
      ]
     },
     "execution_count": 6,
     "metadata": {},
     "output_type": "execute_result"
    }
   ],
   "source": [
    "# previewing the dataset\n",
    "\n",
    "df.head()"
   ]
  },
  {
   "cell_type": "code",
   "execution_count": 7,
   "id": "fbb682cf",
   "metadata": {},
   "outputs": [
    {
     "data": {
      "text/plain": [
       "Index(['Year', 'Country-of-origin', 'UNHCR-refugees', 'Asylum-seekers',\n",
       "       'total-count'],\n",
       "      dtype='object')"
      ]
     },
     "execution_count": 7,
     "metadata": {},
     "output_type": "execute_result"
    }
   ],
   "source": [
    "#listing out the features of the dataset\n",
    "\n",
    "df.columns"
   ]
  },
  {
   "cell_type": "code",
   "execution_count": 8,
   "id": "d50a8f68",
   "metadata": {},
   "outputs": [
    {
     "data": {
      "text/plain": [
       "Year                 0\n",
       "Country-of-origin    0\n",
       "UNHCR-refugees       0\n",
       "Asylum-seekers       0\n",
       "total-count          0\n",
       "dtype: int64"
      ]
     },
     "execution_count": 8,
     "metadata": {},
     "output_type": "execute_result"
    }
   ],
   "source": [
    "# checking for empty values\n",
    "\n",
    "df.isnull().sum()"
   ]
  },
  {
   "cell_type": "code",
   "execution_count": 9,
   "id": "a16362f3",
   "metadata": {},
   "outputs": [
    {
     "data": {
      "text/plain": [
       "Year                  int64\n",
       "Country-of-origin    object\n",
       "UNHCR-refugees        int64\n",
       "Asylum-seekers        int64\n",
       "total-count           int64\n",
       "dtype: object"
      ]
     },
     "execution_count": 9,
     "metadata": {},
     "output_type": "execute_result"
    }
   ],
   "source": [
    "#checking data types of columns\n",
    "\n",
    "df.dtypes"
   ]
  },
  {
   "cell_type": "code",
   "execution_count": 11,
   "id": "43db6252",
   "metadata": {},
   "outputs": [
    {
     "name": "stdout",
     "output_type": "stream",
     "text": [
      "<class 'pandas.core.frame.DataFrame'>\n",
      "RangeIndex: 1870 entries, 0 to 1869\n",
      "Data columns (total 5 columns):\n",
      " #   Column             Non-Null Count  Dtype \n",
      "---  ------             --------------  ----- \n",
      " 0   Year               1870 non-null   int64 \n",
      " 1   Country-of-origin  1870 non-null   object\n",
      " 2   UNHCR-refugees     1870 non-null   int64 \n",
      " 3   Asylum-seekers     1870 non-null   int64 \n",
      " 4   total-count        1870 non-null   int64 \n",
      "dtypes: int64(4), object(1)\n",
      "memory usage: 73.2+ KB\n"
     ]
    }
   ],
   "source": [
    "# observing more information about the dataset\n",
    "\n",
    "df.info()"
   ]
  },
  {
   "cell_type": "code",
   "execution_count": 22,
   "id": "b701a57d",
   "metadata": {},
   "outputs": [
    {
     "data": {
      "text/plain": [
       "0"
      ]
     },
     "execution_count": 22,
     "metadata": {},
     "output_type": "execute_result"
    }
   ],
   "source": [
    "#checking for duplicates\n",
    "\n",
    "df.duplicated().sum()"
   ]
  },
  {
   "cell_type": "code",
   "execution_count": 135,
   "id": "f1b5cc66",
   "metadata": {},
   "outputs": [
    {
     "data": {
      "text/plain": [
       "184"
      ]
     },
     "execution_count": 135,
     "metadata": {},
     "output_type": "execute_result"
    }
   ],
   "source": [
    "# Counting the numbers of countries in the dataset\n",
    "\n",
    "df['Country-of-origin'].nunique()"
   ]
  },
  {
   "cell_type": "markdown",
   "id": "f95d1489",
   "metadata": {},
   "source": [
    "**After observing the data, it shows that the dataset contains 1870 rows and 5 columns**\n",
    "\n",
    "**There are no duplicates in the dataset**\n",
    "\n",
    "**The dataset features/columns are in their appropriate datatypes**\n",
    "\n",
    "**There are no missing values in the dataset**\n"
   ]
  },
  {
   "cell_type": "markdown",
   "id": "a5fa9c86",
   "metadata": {},
   "source": [
    "# Exploratory Data Analysis"
   ]
  },
  {
   "cell_type": "markdown",
   "id": "81bc5ce9",
   "metadata": {},
   "source": [
    "**Statistical Summary of Dataset**"
   ]
  },
  {
   "cell_type": "code",
   "execution_count": 134,
   "id": "4efce949",
   "metadata": {},
   "outputs": [
    {
     "data": {
      "text/html": [
       "<div>\n",
       "<style scoped>\n",
       "    .dataframe tbody tr th:only-of-type {\n",
       "        vertical-align: middle;\n",
       "    }\n",
       "\n",
       "    .dataframe tbody tr th {\n",
       "        vertical-align: top;\n",
       "    }\n",
       "\n",
       "    .dataframe thead th {\n",
       "        text-align: right;\n",
       "    }\n",
       "</style>\n",
       "<table border=\"1\" class=\"dataframe\">\n",
       "  <thead>\n",
       "    <tr style=\"text-align: right;\">\n",
       "      <th></th>\n",
       "      <th>count</th>\n",
       "      <th>mean</th>\n",
       "      <th>std</th>\n",
       "      <th>min</th>\n",
       "      <th>25%</th>\n",
       "      <th>50%</th>\n",
       "      <th>75%</th>\n",
       "      <th>max</th>\n",
       "    </tr>\n",
       "  </thead>\n",
       "  <tbody>\n",
       "    <tr>\n",
       "      <th>Year</th>\n",
       "      <td>1870.0</td>\n",
       "      <td>2016.955615</td>\n",
       "      <td>3.167123</td>\n",
       "      <td>2012.0</td>\n",
       "      <td>2014.00</td>\n",
       "      <td>2017.0</td>\n",
       "      <td>2020.00</td>\n",
       "      <td>2022.0</td>\n",
       "    </tr>\n",
       "    <tr>\n",
       "      <th>UNHCR-refugees</th>\n",
       "      <td>1870.0</td>\n",
       "      <td>752.438503</td>\n",
       "      <td>2427.738942</td>\n",
       "      <td>0.0</td>\n",
       "      <td>20.00</td>\n",
       "      <td>124.0</td>\n",
       "      <td>563.75</td>\n",
       "      <td>75098.0</td>\n",
       "    </tr>\n",
       "    <tr>\n",
       "      <th>Asylum-seekers</th>\n",
       "      <td>1870.0</td>\n",
       "      <td>323.139572</td>\n",
       "      <td>1181.143362</td>\n",
       "      <td>0.0</td>\n",
       "      <td>7.00</td>\n",
       "      <td>36.0</td>\n",
       "      <td>195.25</td>\n",
       "      <td>19765.0</td>\n",
       "    </tr>\n",
       "    <tr>\n",
       "      <th>total-count</th>\n",
       "      <td>1870.0</td>\n",
       "      <td>1075.578075</td>\n",
       "      <td>2980.751399</td>\n",
       "      <td>0.0</td>\n",
       "      <td>39.25</td>\n",
       "      <td>187.0</td>\n",
       "      <td>889.75</td>\n",
       "      <td>75294.0</td>\n",
       "    </tr>\n",
       "  </tbody>\n",
       "</table>\n",
       "</div>"
      ],
      "text/plain": [
       "                 count         mean          std     min      25%     50%  \\\n",
       "Year            1870.0  2016.955615     3.167123  2012.0  2014.00  2017.0   \n",
       "UNHCR-refugees  1870.0   752.438503  2427.738942     0.0    20.00   124.0   \n",
       "Asylum-seekers  1870.0   323.139572  1181.143362     0.0     7.00    36.0   \n",
       "total-count     1870.0  1075.578075  2980.751399     0.0    39.25   187.0   \n",
       "\n",
       "                    75%      max  \n",
       "Year            2020.00   2022.0  \n",
       "UNHCR-refugees   563.75  75098.0  \n",
       "Asylum-seekers   195.25  19765.0  \n",
       "total-count      889.75  75294.0  "
      ]
     },
     "execution_count": 134,
     "metadata": {},
     "output_type": "execute_result"
    }
   ],
   "source": [
    "#The describe() function is used to generate descriptive statistical summary of the dataset\n",
    "\n",
    "df.describe().T"
   ]
  },
  {
   "cell_type": "markdown",
   "id": "e53399e5",
   "metadata": {},
   "source": [
    "**With the summary above:**\n",
    "\n",
    "**-This dataset was collected over the course of 10 years (2012-2022)**\n",
    "\n",
    "**-There was 1870 entries by 184 countries in the course of 10 years which the data was collected**\n",
    "\n",
    "**-In the course of the 10-years span of collecting this data there were 752 Refugees on an average.**\n",
    "\n",
    "**-In the course of the 10-years span of collecting this data there were 323 Asylum-seekers on an average.**\n",
    "\n",
    "**-Total count for Refugees and Asylum-seekers, the average count is approximately 1,076, while some countries in particular years had no refugees or asylum-seekers at all, others have as high as 75,294.**\n",
    "\n"
   ]
  },
  {
   "cell_type": "markdown",
   "id": "f74743dd",
   "metadata": {},
   "source": [
    "### Analysis Questions:"
   ]
  },
  {
   "cell_type": "markdown",
   "id": "fa08059e",
   "metadata": {},
   "source": [
    "**1.From which countries has Canada admitted the highest number of refugees?**"
   ]
  },
  {
   "cell_type": "code",
   "execution_count": 136,
   "id": "12b43682",
   "metadata": {},
   "outputs": [
    {
     "data": {
      "text/plain": [
       "Country-of-origin\n",
       "Colombia    108416\n",
       "China        98586\n",
       "Ukraine      88376\n",
       "Pakistan     74737\n",
       "Haiti        70956\n",
       "Name: UNHCR-refugees, dtype: int64"
      ]
     },
     "execution_count": 136,
     "metadata": {},
     "output_type": "execute_result"
    }
   ],
   "source": [
    "#Number of most admitted refugess per country\n",
    "\n",
    "Refugges_countries =df['UNHCR-refugees'].groupby(by=df['Country-of-origin']).sum().sort_values(ascending=False)[0:5]\n",
    "Refugges_countries"
   ]
  },
  {
   "cell_type": "code",
   "execution_count": 139,
   "id": "b0cc9864",
   "metadata": {},
   "outputs": [
    {
     "data": {
      "text/plain": [
       "Text(0.5, 1.0, 'Top 5 countries with highest number of Refugees')"
      ]
     },
     "execution_count": 139,
     "metadata": {},
     "output_type": "execute_result"
    },
    {
     "data": {
      "image/png": "[encoded data removed]",
      "text/plain": [
       "<Figure size 640x480 with 1 Axes>"
      ]
     },
     "metadata": {},
     "output_type": "display_data"
    }
   ],
   "source": [
    "#Visualization of Number of refugess per country using pie-chart ranging anti-clockwise\n",
    "\n",
    "keys = ['Colombia (108416)','China (98586)','Ukraine (88376)','Pakistan (74737)','Haiti (70956)']\n",
    "plt.pie(Refugges_countries, labels = keys, radius = 1.0, wedgeprops = dict(width=0.5))\n",
    "plt.title ('Top 5 countries with highest number of Refugees')"
   ]
  },
  {
   "cell_type": "markdown",
   "id": "bbd0520f",
   "metadata": {},
   "source": [
    "**2.What are the total number of resettled refugees in Canada per year?**"
   ]
  },
  {
   "cell_type": "code",
   "execution_count": 88,
   "id": "dafb90cd",
   "metadata": {},
   "outputs": [
    {
     "data": {
      "text/html": [
       "<div>\n",
       "<style scoped>\n",
       "    .dataframe tbody tr th:only-of-type {\n",
       "        vertical-align: middle;\n",
       "    }\n",
       "\n",
       "    .dataframe tbody tr th {\n",
       "        vertical-align: top;\n",
       "    }\n",
       "\n",
       "    .dataframe thead th {\n",
       "        text-align: right;\n",
       "    }\n",
       "</style>\n",
       "<table border=\"1\" class=\"dataframe\">\n",
       "  <thead>\n",
       "    <tr style=\"text-align: right;\">\n",
       "      <th></th>\n",
       "      <th>Year</th>\n",
       "      <th>UNHCR-refugees</th>\n",
       "    </tr>\n",
       "  </thead>\n",
       "  <tbody>\n",
       "    <tr>\n",
       "      <th>0</th>\n",
       "      <td>2012</td>\n",
       "      <td>163751</td>\n",
       "    </tr>\n",
       "    <tr>\n",
       "      <th>1</th>\n",
       "      <td>2013</td>\n",
       "      <td>160347</td>\n",
       "    </tr>\n",
       "    <tr>\n",
       "      <th>2</th>\n",
       "      <td>2014</td>\n",
       "      <td>149164</td>\n",
       "    </tr>\n",
       "    <tr>\n",
       "      <th>3</th>\n",
       "      <td>2015</td>\n",
       "      <td>135890</td>\n",
       "    </tr>\n",
       "    <tr>\n",
       "      <th>4</th>\n",
       "      <td>2016</td>\n",
       "      <td>97322</td>\n",
       "    </tr>\n",
       "    <tr>\n",
       "      <th>5</th>\n",
       "      <td>2017</td>\n",
       "      <td>104768</td>\n",
       "    </tr>\n",
       "    <tr>\n",
       "      <th>6</th>\n",
       "      <td>2018</td>\n",
       "      <td>114101</td>\n",
       "    </tr>\n",
       "    <tr>\n",
       "      <th>7</th>\n",
       "      <td>2019</td>\n",
       "      <td>101757</td>\n",
       "    </tr>\n",
       "    <tr>\n",
       "      <th>8</th>\n",
       "      <td>2020</td>\n",
       "      <td>109214</td>\n",
       "    </tr>\n",
       "    <tr>\n",
       "      <th>9</th>\n",
       "      <td>2021</td>\n",
       "      <td>130125</td>\n",
       "    </tr>\n",
       "    <tr>\n",
       "      <th>10</th>\n",
       "      <td>2022</td>\n",
       "      <td>140621</td>\n",
       "    </tr>\n",
       "  </tbody>\n",
       "</table>\n",
       "</div>"
      ],
      "text/plain": [
       "    Year  UNHCR-refugees\n",
       "0   2012          163751\n",
       "1   2013          160347\n",
       "2   2014          149164\n",
       "3   2015          135890\n",
       "4   2016           97322\n",
       "5   2017          104768\n",
       "6   2018          114101\n",
       "7   2019          101757\n",
       "8   2020          109214\n",
       "9   2021          130125\n",
       "10  2022          140621"
      ]
     },
     "execution_count": 88,
     "metadata": {},
     "output_type": "execute_result"
    }
   ],
   "source": [
    "Refugees_per_year = df['UNHCR-refugees'].groupby(by=df['Year']).sum().reset_index()\n",
    "Refugees_per_year"
   ]
  },
  {
   "cell_type": "code",
   "execution_count": 124,
   "id": "963e4c86",
   "metadata": {},
   "outputs": [
    {
     "data": {
      "image/png": "[encoded data removed]",
      "text/plain": [
       "<Figure size 700x600 with 1 Axes>"
      ]
     },
     "metadata": {},
     "output_type": "display_data"
    }
   ],
   "source": [
    "##Visualization of No. refugees By Year using Lineplot\n",
    "\n",
    "plt.figure(figsize=(7,6))\n",
    "sns.lineplot(data=Refugees_per_year, x='Year', y='UNHCR-refugees', marker='o')\n",
    "plt.title('Number of Refugees per Year')\n",
    "plt.xlabel('Year')\n",
    "plt.ylabel('No. of Refugees')\n",
    "plt.grid(True, linestyle='--');\n"
   ]
  },
  {
   "cell_type": "markdown",
   "id": "83012760",
   "metadata": {},
   "source": [
    "**3.What are the countries of origin for the majority of asylum claims made in Canada?**"
   ]
  },
  {
   "cell_type": "code",
   "execution_count": 144,
   "id": "032b39d2",
   "metadata": {},
   "outputs": [
    {
     "data": {
      "text/html": [
       "<div>\n",
       "<style scoped>\n",
       "    .dataframe tbody tr th:only-of-type {\n",
       "        vertical-align: middle;\n",
       "    }\n",
       "\n",
       "    .dataframe tbody tr th {\n",
       "        vertical-align: top;\n",
       "    }\n",
       "\n",
       "    .dataframe thead th {\n",
       "        text-align: right;\n",
       "    }\n",
       "</style>\n",
       "<table border=\"1\" class=\"dataframe\">\n",
       "  <thead>\n",
       "    <tr style=\"text-align: right;\">\n",
       "      <th></th>\n",
       "      <th>Country-of-origin</th>\n",
       "      <th>Asylum-seekers</th>\n",
       "    </tr>\n",
       "  </thead>\n",
       "  <tbody>\n",
       "    <tr>\n",
       "      <th>0</th>\n",
       "      <td>Unknown</td>\n",
       "      <td>56098</td>\n",
       "    </tr>\n",
       "    <tr>\n",
       "      <th>1</th>\n",
       "      <td>Nigeria</td>\n",
       "      <td>51620</td>\n",
       "    </tr>\n",
       "    <tr>\n",
       "      <th>2</th>\n",
       "      <td>India</td>\n",
       "      <td>48806</td>\n",
       "    </tr>\n",
       "    <tr>\n",
       "      <th>3</th>\n",
       "      <td>Mexico</td>\n",
       "      <td>47146</td>\n",
       "    </tr>\n",
       "    <tr>\n",
       "      <th>4</th>\n",
       "      <td>Haiti</td>\n",
       "      <td>40908</td>\n",
       "    </tr>\n",
       "    <tr>\n",
       "      <th>5</th>\n",
       "      <td>Colombia</td>\n",
       "      <td>30475</td>\n",
       "    </tr>\n",
       "    <tr>\n",
       "      <th>6</th>\n",
       "      <td>China</td>\n",
       "      <td>21526</td>\n",
       "    </tr>\n",
       "  </tbody>\n",
       "</table>\n",
       "</div>"
      ],
      "text/plain": [
       "  Country-of-origin  Asylum-seekers\n",
       "0           Unknown           56098\n",
       "1           Nigeria           51620\n",
       "2             India           48806\n",
       "3            Mexico           47146\n",
       "4             Haiti           40908\n",
       "5          Colombia           30475\n",
       "6             China           21526"
      ]
     },
     "execution_count": 144,
     "metadata": {},
     "output_type": "execute_result"
    }
   ],
   "source": [
    "most_countries_assylum = df['Asylum-seekers'].groupby(by=df['Country-of-origin']).sum().sort_values(ascending=False)[0:7].reset_index()\n",
    "most_countries_assylum"
   ]
  },
  {
   "cell_type": "code",
   "execution_count": 145,
   "id": "58020bf6",
   "metadata": {},
   "outputs": [
    {
     "data": {
      "image/png": "[encoded data removed]",
      "text/plain": [
       "<Figure size 600x500 with 1 Axes>"
      ]
     },
     "metadata": {},
     "output_type": "display_data"
    }
   ],
   "source": [
    "#Visualization of the No. of Assylum seekers per their country-of-origin using Bar chart\n",
    "\n",
    "plt.figure(figsize=(6,5))\n",
    "sns.barplot(data=most_countries_assylum, x='Country-of-origin', y='Asylum-seekers')\n",
    "plt.title('Number of Refugees per Countries')\n",
    "plt.xlabel('Countries')\n",
    "plt.ylabel('No. of Refugees')\n",
    "plt.xticks(rotation=45)\n",
    "\n",
    "#Adding Value labels by calling the \"Addlabel\" function\n",
    "addlabels(most_countries_assylum['Country-of-origin'].to_list(), most_countries_assylum['Asylum-seekers'].to_list());"
   ]
  },
  {
   "cell_type": "markdown",
   "id": "91c7bd1f",
   "metadata": {},
   "source": [
    "**4.What is the total number of asylum claims made in Canada every year?**"
   ]
  },
  {
   "cell_type": "code",
   "execution_count": 147,
   "id": "3485f639",
   "metadata": {},
   "outputs": [
    {
     "data": {
      "text/html": [
       "<div>\n",
       "<style scoped>\n",
       "    .dataframe tbody tr th:only-of-type {\n",
       "        vertical-align: middle;\n",
       "    }\n",
       "\n",
       "    .dataframe tbody tr th {\n",
       "        vertical-align: top;\n",
       "    }\n",
       "\n",
       "    .dataframe thead th {\n",
       "        text-align: right;\n",
       "    }\n",
       "</style>\n",
       "<table border=\"1\" class=\"dataframe\">\n",
       "  <thead>\n",
       "    <tr style=\"text-align: right;\">\n",
       "      <th></th>\n",
       "      <th>Year</th>\n",
       "      <th>Asylum-seekers</th>\n",
       "    </tr>\n",
       "  </thead>\n",
       "  <tbody>\n",
       "    <tr>\n",
       "      <th>0</th>\n",
       "      <td>2012</td>\n",
       "      <td>32647</td>\n",
       "    </tr>\n",
       "    <tr>\n",
       "      <th>1</th>\n",
       "      <td>2013</td>\n",
       "      <td>22145</td>\n",
       "    </tr>\n",
       "    <tr>\n",
       "      <th>2</th>\n",
       "      <td>2014</td>\n",
       "      <td>16699</td>\n",
       "    </tr>\n",
       "    <tr>\n",
       "      <th>3</th>\n",
       "      <td>2015</td>\n",
       "      <td>19631</td>\n",
       "    </tr>\n",
       "    <tr>\n",
       "      <th>4</th>\n",
       "      <td>2016</td>\n",
       "      <td>23946</td>\n",
       "    </tr>\n",
       "    <tr>\n",
       "      <th>5</th>\n",
       "      <td>2017</td>\n",
       "      <td>51859</td>\n",
       "    </tr>\n",
       "    <tr>\n",
       "      <th>6</th>\n",
       "      <td>2018</td>\n",
       "      <td>78766</td>\n",
       "    </tr>\n",
       "    <tr>\n",
       "      <th>7</th>\n",
       "      <td>2019</td>\n",
       "      <td>97017</td>\n",
       "    </tr>\n",
       "    <tr>\n",
       "      <th>8</th>\n",
       "      <td>2020</td>\n",
       "      <td>85352</td>\n",
       "    </tr>\n",
       "    <tr>\n",
       "      <th>9</th>\n",
       "      <td>2021</td>\n",
       "      <td>63143</td>\n",
       "    </tr>\n",
       "    <tr>\n",
       "      <th>10</th>\n",
       "      <td>2022</td>\n",
       "      <td>113066</td>\n",
       "    </tr>\n",
       "  </tbody>\n",
       "</table>\n",
       "</div>"
      ],
      "text/plain": [
       "    Year  Asylum-seekers\n",
       "0   2012           32647\n",
       "1   2013           22145\n",
       "2   2014           16699\n",
       "3   2015           19631\n",
       "4   2016           23946\n",
       "5   2017           51859\n",
       "6   2018           78766\n",
       "7   2019           97017\n",
       "8   2020           85352\n",
       "9   2021           63143\n",
       "10  2022          113066"
      ]
     },
     "execution_count": 147,
     "metadata": {},
     "output_type": "execute_result"
    }
   ],
   "source": [
    "Assylum_per_year= df['Asylum-seekers'].groupby(by=df['Year']).sum().reset_index()\n",
    "Assylum_per_year"
   ]
  },
  {
   "cell_type": "code",
   "execution_count": 148,
   "id": "2c84451e",
   "metadata": {},
   "outputs": [
    {
     "data": {
      "text/plain": [
       "<Figure size 600x400 with 0 Axes>"
      ]
     },
     "metadata": {},
     "output_type": "display_data"
    },
    {
     "data": {
      "image/png": "[encoded data removed]",
      "text/plain": [
       "<Figure size 700x600 with 1 Axes>"
      ]
     },
     "metadata": {},
     "output_type": "display_data"
    }
   ],
   "source": [
    "#Visualization of Assylum Seekers per Year using Lineplot\n",
    "\n",
    "plt.figure(figsize=(6,4))\n",
    "plt.figure(figsize=(7,6))\n",
    "sns.lineplot(data=Assylum_per_year, x='Year', y='Asylum-seekers', marker='o')\n",
    "plt.title('Asylum-seekers')\n",
    "plt.xlabel('Year')\n",
    "plt.ylabel('No. of Asylum-seekers')\n",
    "plt.grid(True, linestyle='--');"
   ]
  },
  {
   "cell_type": "markdown",
   "id": "3ec09903",
   "metadata": {},
   "source": [
    "**5.What are the general trends in refugee and asylum statistics from 2012-2022?**\n"
   ]
  },
  {
   "cell_type": "code",
   "execution_count": 129,
   "id": "2eca2b3d",
   "metadata": {},
   "outputs": [
    {
     "data": {
      "text/html": [
       "<div>\n",
       "<style scoped>\n",
       "    .dataframe tbody tr th:only-of-type {\n",
       "        vertical-align: middle;\n",
       "    }\n",
       "\n",
       "    .dataframe tbody tr th {\n",
       "        vertical-align: top;\n",
       "    }\n",
       "\n",
       "    .dataframe thead th {\n",
       "        text-align: right;\n",
       "    }\n",
       "</style>\n",
       "<table border=\"1\" class=\"dataframe\">\n",
       "  <thead>\n",
       "    <tr style=\"text-align: right;\">\n",
       "      <th></th>\n",
       "      <th>Year</th>\n",
       "      <th>UNHCR-refugees</th>\n",
       "      <th>Asylum-seekers</th>\n",
       "    </tr>\n",
       "  </thead>\n",
       "  <tbody>\n",
       "    <tr>\n",
       "      <th>0</th>\n",
       "      <td>2012</td>\n",
       "      <td>163751</td>\n",
       "      <td>32647</td>\n",
       "    </tr>\n",
       "    <tr>\n",
       "      <th>1</th>\n",
       "      <td>2013</td>\n",
       "      <td>160347</td>\n",
       "      <td>22145</td>\n",
       "    </tr>\n",
       "    <tr>\n",
       "      <th>2</th>\n",
       "      <td>2014</td>\n",
       "      <td>149164</td>\n",
       "      <td>16699</td>\n",
       "    </tr>\n",
       "    <tr>\n",
       "      <th>3</th>\n",
       "      <td>2015</td>\n",
       "      <td>135890</td>\n",
       "      <td>19631</td>\n",
       "    </tr>\n",
       "    <tr>\n",
       "      <th>4</th>\n",
       "      <td>2016</td>\n",
       "      <td>97322</td>\n",
       "      <td>23946</td>\n",
       "    </tr>\n",
       "    <tr>\n",
       "      <th>5</th>\n",
       "      <td>2017</td>\n",
       "      <td>104768</td>\n",
       "      <td>51859</td>\n",
       "    </tr>\n",
       "    <tr>\n",
       "      <th>6</th>\n",
       "      <td>2018</td>\n",
       "      <td>114101</td>\n",
       "      <td>78766</td>\n",
       "    </tr>\n",
       "    <tr>\n",
       "      <th>7</th>\n",
       "      <td>2019</td>\n",
       "      <td>101757</td>\n",
       "      <td>97017</td>\n",
       "    </tr>\n",
       "    <tr>\n",
       "      <th>8</th>\n",
       "      <td>2020</td>\n",
       "      <td>109214</td>\n",
       "      <td>85352</td>\n",
       "    </tr>\n",
       "    <tr>\n",
       "      <th>9</th>\n",
       "      <td>2021</td>\n",
       "      <td>130125</td>\n",
       "      <td>63143</td>\n",
       "    </tr>\n",
       "    <tr>\n",
       "      <th>10</th>\n",
       "      <td>2022</td>\n",
       "      <td>140621</td>\n",
       "      <td>113066</td>\n",
       "    </tr>\n",
       "  </tbody>\n",
       "</table>\n",
       "</div>"
      ],
      "text/plain": [
       "    Year  UNHCR-refugees  Asylum-seekers\n",
       "0   2012          163751           32647\n",
       "1   2013          160347           22145\n",
       "2   2014          149164           16699\n",
       "3   2015          135890           19631\n",
       "4   2016           97322           23946\n",
       "5   2017          104768           51859\n",
       "6   2018          114101           78766\n",
       "7   2019          101757           97017\n",
       "8   2020          109214           85352\n",
       "9   2021          130125           63143\n",
       "10  2022          140621          113066"
      ]
     },
     "execution_count": 129,
     "metadata": {},
     "output_type": "execute_result"
    }
   ],
   "source": [
    "#Total Count of both Refugees and Assylum-Seekers per year (2012-2022)\n",
    "\n",
    "refugeee_and_assylum_year = df.groupby('Year')[['UNHCR-refugees', 'Asylum-seekers']].sum().reset_index().sort_values('Year')\n",
    "refugeee_and_assylum_year"
   ]
  },
  {
   "cell_type": "code",
   "execution_count": 130,
   "id": "53d0470e",
   "metadata": {},
   "outputs": [
    {
     "data": {
      "text/html": [
       "<div>\n",
       "<style scoped>\n",
       "    .dataframe tbody tr th:only-of-type {\n",
       "        vertical-align: middle;\n",
       "    }\n",
       "\n",
       "    .dataframe tbody tr th {\n",
       "        vertical-align: top;\n",
       "    }\n",
       "\n",
       "    .dataframe thead th {\n",
       "        text-align: right;\n",
       "    }\n",
       "</style>\n",
       "<table border=\"1\" class=\"dataframe\">\n",
       "  <thead>\n",
       "    <tr style=\"text-align: right;\">\n",
       "      <th></th>\n",
       "      <th>Year</th>\n",
       "      <th>Category</th>\n",
       "      <th>Count</th>\n",
       "    </tr>\n",
       "  </thead>\n",
       "  <tbody>\n",
       "    <tr>\n",
       "      <th>0</th>\n",
       "      <td>2012</td>\n",
       "      <td>UNHCR-refugees</td>\n",
       "      <td>163751</td>\n",
       "    </tr>\n",
       "    <tr>\n",
       "      <th>1</th>\n",
       "      <td>2013</td>\n",
       "      <td>UNHCR-refugees</td>\n",
       "      <td>160347</td>\n",
       "    </tr>\n",
       "    <tr>\n",
       "      <th>2</th>\n",
       "      <td>2014</td>\n",
       "      <td>UNHCR-refugees</td>\n",
       "      <td>149164</td>\n",
       "    </tr>\n",
       "    <tr>\n",
       "      <th>3</th>\n",
       "      <td>2015</td>\n",
       "      <td>UNHCR-refugees</td>\n",
       "      <td>135890</td>\n",
       "    </tr>\n",
       "    <tr>\n",
       "      <th>4</th>\n",
       "      <td>2016</td>\n",
       "      <td>UNHCR-refugees</td>\n",
       "      <td>97322</td>\n",
       "    </tr>\n",
       "    <tr>\n",
       "      <th>5</th>\n",
       "      <td>2017</td>\n",
       "      <td>UNHCR-refugees</td>\n",
       "      <td>104768</td>\n",
       "    </tr>\n",
       "    <tr>\n",
       "      <th>6</th>\n",
       "      <td>2018</td>\n",
       "      <td>UNHCR-refugees</td>\n",
       "      <td>114101</td>\n",
       "    </tr>\n",
       "    <tr>\n",
       "      <th>7</th>\n",
       "      <td>2019</td>\n",
       "      <td>UNHCR-refugees</td>\n",
       "      <td>101757</td>\n",
       "    </tr>\n",
       "    <tr>\n",
       "      <th>8</th>\n",
       "      <td>2020</td>\n",
       "      <td>UNHCR-refugees</td>\n",
       "      <td>109214</td>\n",
       "    </tr>\n",
       "    <tr>\n",
       "      <th>9</th>\n",
       "      <td>2021</td>\n",
       "      <td>UNHCR-refugees</td>\n",
       "      <td>130125</td>\n",
       "    </tr>\n",
       "    <tr>\n",
       "      <th>10</th>\n",
       "      <td>2022</td>\n",
       "      <td>UNHCR-refugees</td>\n",
       "      <td>140621</td>\n",
       "    </tr>\n",
       "    <tr>\n",
       "      <th>11</th>\n",
       "      <td>2012</td>\n",
       "      <td>Asylum-seekers</td>\n",
       "      <td>32647</td>\n",
       "    </tr>\n",
       "    <tr>\n",
       "      <th>12</th>\n",
       "      <td>2013</td>\n",
       "      <td>Asylum-seekers</td>\n",
       "      <td>22145</td>\n",
       "    </tr>\n",
       "    <tr>\n",
       "      <th>13</th>\n",
       "      <td>2014</td>\n",
       "      <td>Asylum-seekers</td>\n",
       "      <td>16699</td>\n",
       "    </tr>\n",
       "    <tr>\n",
       "      <th>14</th>\n",
       "      <td>2015</td>\n",
       "      <td>Asylum-seekers</td>\n",
       "      <td>19631</td>\n",
       "    </tr>\n",
       "    <tr>\n",
       "      <th>15</th>\n",
       "      <td>2016</td>\n",
       "      <td>Asylum-seekers</td>\n",
       "      <td>23946</td>\n",
       "    </tr>\n",
       "    <tr>\n",
       "      <th>16</th>\n",
       "      <td>2017</td>\n",
       "      <td>Asylum-seekers</td>\n",
       "      <td>51859</td>\n",
       "    </tr>\n",
       "    <tr>\n",
       "      <th>17</th>\n",
       "      <td>2018</td>\n",
       "      <td>Asylum-seekers</td>\n",
       "      <td>78766</td>\n",
       "    </tr>\n",
       "    <tr>\n",
       "      <th>18</th>\n",
       "      <td>2019</td>\n",
       "      <td>Asylum-seekers</td>\n",
       "      <td>97017</td>\n",
       "    </tr>\n",
       "    <tr>\n",
       "      <th>19</th>\n",
       "      <td>2020</td>\n",
       "      <td>Asylum-seekers</td>\n",
       "      <td>85352</td>\n",
       "    </tr>\n",
       "    <tr>\n",
       "      <th>20</th>\n",
       "      <td>2021</td>\n",
       "      <td>Asylum-seekers</td>\n",
       "      <td>63143</td>\n",
       "    </tr>\n",
       "    <tr>\n",
       "      <th>21</th>\n",
       "      <td>2022</td>\n",
       "      <td>Asylum-seekers</td>\n",
       "      <td>113066</td>\n",
       "    </tr>\n",
       "  </tbody>\n",
       "</table>\n",
       "</div>"
      ],
      "text/plain": [
       "    Year        Category   Count\n",
       "0   2012  UNHCR-refugees  163751\n",
       "1   2013  UNHCR-refugees  160347\n",
       "2   2014  UNHCR-refugees  149164\n",
       "3   2015  UNHCR-refugees  135890\n",
       "4   2016  UNHCR-refugees   97322\n",
       "5   2017  UNHCR-refugees  104768\n",
       "6   2018  UNHCR-refugees  114101\n",
       "7   2019  UNHCR-refugees  101757\n",
       "8   2020  UNHCR-refugees  109214\n",
       "9   2021  UNHCR-refugees  130125\n",
       "10  2022  UNHCR-refugees  140621\n",
       "11  2012  Asylum-seekers   32647\n",
       "12  2013  Asylum-seekers   22145\n",
       "13  2014  Asylum-seekers   16699\n",
       "14  2015  Asylum-seekers   19631\n",
       "15  2016  Asylum-seekers   23946\n",
       "16  2017  Asylum-seekers   51859\n",
       "17  2018  Asylum-seekers   78766\n",
       "18  2019  Asylum-seekers   97017\n",
       "19  2020  Asylum-seekers   85352\n",
       "20  2021  Asylum-seekers   63143\n",
       "21  2022  Asylum-seekers  113066"
      ]
     },
     "execution_count": 130,
     "metadata": {},
     "output_type": "execute_result"
    }
   ],
   "source": [
    "## Reshaping the above dataframe using \"pd.melt\" functions so we can have both 'UNHCR-refugees and Asylum-seekers' in categories\n",
    "\n",
    "melted_data = pd.melt(refugeee_and_assylum_year, id_vars = ['Year'], var_name = \"Category\", value_name = \"Count\")\n",
    "melted_data"
   ]
  },
  {
   "cell_type": "code",
   "execution_count": 133,
   "id": "a491f364",
   "metadata": {
    "scrolled": false
   },
   "outputs": [
    {
     "data": {
      "image/png": "[encoded data removed]",
      "text/plain": [
       "<Figure size 800x600 with 1 Axes>"
      ]
     },
     "metadata": {},
     "output_type": "display_data"
    }
   ],
   "source": [
    "# Visualization of the trend of both 'UNHCR-refugees' and 'Asylum-seekers' per year using Bar chart\n",
    "\n",
    "plt.figure(figsize=(8,6))\n",
    "sns.barplot(data=melted_data, x='Year', y='Count', hue='Category', palette='mako')\n",
    "plt.title('Total Refugee and Assylum Seekers Per Year')\n",
    "plt.xlabel('Year')\n",
    "plt.ylabel('Total Count');"
   ]
  },
  {
   "cell_type": "markdown",
   "id": "38126efc",
   "metadata": {},
   "source": [
    "## INSIGHTS:\n",
    "\n",
    "### 1.From which countries has Canada admitted the highest number of refugees?\n",
    "\n",
    "   \n",
    "   **- It shows that the following countries are at the top of list for countries with most refugees admitted by Canada:**\n",
    "   \n",
    "   **Country    UNHCR-refugees**\n",
    "   \n",
    "   **Colombia   108416**\n",
    "   \n",
    "   **China      98586**\n",
    "   \n",
    "   **Ukraine    88376**\n",
    "   \n",
    "   **Pakistan   74737**\n",
    "   \n",
    "   **Haiti      70956**\n",
    "    \n",
    "   **- The refugees are coming from different geographical regions, from Europe to Asia and also the Carribeans, this shows that Canada as a country is playing a huge role in the issue of Global resettlemnent.**"
   ]
  },
  {
   "cell_type": "markdown",
   "id": "d300b62a",
   "metadata": {},
   "source": [
    "### 2.What are the total number of resettled refugees in Canada per year?\n",
    "\n",
    "**Year\tUNHCR-refugees**\n",
    "\n",
    "**2012\t163751**\n",
    "\n",
    "**2013\t160347**\n",
    "\n",
    "**2014\t149164**\n",
    "\n",
    "**2015\t135890**\n",
    "\n",
    "**2016\t97322**\n",
    "\n",
    "**2017\t104768**\n",
    "\n",
    "**2018\t114101**\n",
    "\n",
    "**2019\t101757**\n",
    "\n",
    "**2020\t109214**\n",
    "\n",
    "**2021\t130125**\n",
    "\n",
    "**2022\t140621**\n",
    "\n",
    "**-As shown 2012 was the year with most refugeed admitted into Canada, although there seems to be a decline in the number of refugees from 2012 to 2016, as 2016 recorded the year with the least admission**\n",
    "\n",
    "**-Between 2015 and 2016, we could see the most significant drop of refugees admission into Canada.**\n",
    "\n",
    "**-From 2019 to 2022 there has been an uptrend in the numbers of Refugees admitted into Canada**"
   ]
  },
  {
   "cell_type": "markdown",
   "id": "192aac92",
   "metadata": {},
   "source": [
    "### 3. What are the countries of origin for the majority of asylum claims made in Canada?"
   ]
  },
  {
   "cell_type": "markdown",
   "id": "4d458329",
   "metadata": {},
   "source": [
    "**Country-of-origin\tAsylum-seekers**\n",
    "\n",
    "**Unknown\t56098**\n",
    "\n",
    "**Nigeria\t51620**\n",
    "\n",
    "**India\t48806**\n",
    "\n",
    "**Mexico\t47146**\n",
    "\n",
    "**Haiti\t40908**\n",
    "\n",
    "**Colombia\t30475**\n",
    "\n",
    "**China\t21526**\n",
    "\n",
    "**-As shown above, the majority of Assylum seekers come from a wide variety of geographical regions: Africa, South-America, the Carribeans and also Asia. This as the Refugees still shows that Canada as a country still placed itself as a refuge for individual from different backgrounds**\n",
    "\n",
    "**-The highest number of asylum-seekers are categorized as \"Unknown.\" This could possibly be due to the majority of the Asylum-seekers not having proper documentation or not wanting to declare their nationality for some reasons during the asylum process.**\n",
    "\n",
    "**-The countries listed that has majorly provided most of Assylum seekers could be said to have experienced various challenges, from oppression from militant groups as in the case of Nigeria, drug cartel violence as in the case of Mexico or political instability and violence as in the case of Haiti**"
   ]
  },
  {
   "cell_type": "markdown",
   "id": "c6fd6ef5",
   "metadata": {},
   "source": [
    "### 4.What is the total number of asylum claims made in Canada every year?"
   ]
  },
  {
   "cell_type": "markdown",
   "id": "ba50193a",
   "metadata": {},
   "source": [
    "**Year\tAsylum-seekers**\n",
    "\n",
    "**2012\t32647**\n",
    "\n",
    "**2013\t22145**\n",
    "\n",
    "**2014\t16699**\n",
    "\n",
    "**2015\t19631**\n",
    "\n",
    "**2016\t23946**\n",
    "\n",
    "**2017\t51859**\n",
    "\n",
    "**2018\t78766**\n",
    "\n",
    "**2019\t97017**\n",
    "\n",
    "**2020\t85352**\n",
    "\n",
    "**2021\t63143**\n",
    "\n",
    "**2022\t113066**\n",
    "\n",
    "**-As shown above the assylum seekers started at 32,547 in 2012 but gradually declined into the year 2014 at 16,699, that is about 50% in decrease, making 2014 the year with the lowest numbers of Assylum seekers**\n",
    "\n",
    "**-There was a significant uptrend of Assylum seekers between the year 2014 and 2019, this might be due to specific global crises that led to increased migrations or Canada as a country may have appeared as more welcoming to asylum-seekers.**\n",
    "\n",
    "**-In 2022, there was a really high increase of asylum-seekers reaching 113,066, marking the highest in the data. This increase shows that some certain conditions in 2022 made Canada an a vivid option for asylum-seekers, whether global crises, or other factors**"
   ]
  },
  {
   "cell_type": "markdown",
   "id": "b9b9261a",
   "metadata": {},
   "source": [
    "### 5.What are the general trends in refugee and asylum statistics from 2012-2022?"
   ]
  },
  {
   "cell_type": "markdown",
   "id": "e7501b1d",
   "metadata": {},
   "source": [
    "**Year\tUNHCR-refugees\tAsylum-seekers**\n",
    "\n",
    "**2012\t163751\t32647**\n",
    "\n",
    "**2013\t160347\t22145**\n",
    "\n",
    "**2014\t149164\t16699**\n",
    "\n",
    "**2015\t135890\t19631**\n",
    "\n",
    "**2016\t97322\t23946**\n",
    "\n",
    "**2017\t104768\t51859**\n",
    "\n",
    "**2018\t114101\t78766**\n",
    "\n",
    "**2019\t101757\t97017**\n",
    "\n",
    "**2020\t109214\t85352**\n",
    "\n",
    "**2021\t130125\t63143**\n",
    "\n",
    "**2022\t140621\t113066**\n",
    "\n",
    "**-Generally the numbers of Refugees are typically higher than that of Asylum-seekers.**\n",
    "\n",
    "**-There was a decrease in the numbers of both Refugees and Assylum-seekers between the year 2012 to 2014**\n",
    "\n",
    "**-In the year 2019 Canada saw almost the same numbers for Refugees and Assylum-seekers at 101,757 and\n",
    "97,017**"
   ]
  },
  {
   "cell_type": "code",
   "execution_count": null,
   "id": "75c44b1f",
   "metadata": {},
   "outputs": [],
   "source": []
  }
 ],
 "metadata": {
  "kernelspec": {
   "display_name": "Python 3 (ipykernel)",
   "language": "python",
   "name": "python3"
  },
  "language_info": {
   "codemirror_mode": {
    "name": "ipython",
    "version": 3
   },
   "file_extension": ".py",
   "mimetype": "text/x-python",
   "name": "python",
   "nbconvert_exporter": "python",
   "pygments_lexer": "ipython3",
   "version": "3.10.9"
  }
 },
 "nbformat": 4,
 "nbformat_minor": 5
}
